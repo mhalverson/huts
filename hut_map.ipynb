{
 "cells": [
  {
   "cell_type": "code",
   "execution_count": 1,
   "metadata": {},
   "outputs": [
    {
     "name": "stderr",
     "output_type": "stream",
     "text": [
      "/Users/mh/Code/mhalverson/huts/env/lib/python2.7/site-packages/folium/__init__.py:59: UserWarning: This version of folium is the last to support Python 2. Transition to Python 3 to be able to receive updates and fixes. Check out https://python3statement.org/ for more info.\n",
      "  UserWarning\n"
     ]
    }
   ],
   "source": [
    "from pprint import pprint\n",
    "from huts.hut import north_island, south_island\n",
    "from huts.merged import (\n",
    "    huts_enriched_with_visits,\n",
    "    by_all, by_island, by_region, by_place, \n",
    "    by_island_by_region, by_region_by_place, \n",
    "    by_island_by_region_by_place,\n",
    "    filter_open\n",
    ")\n",
    "from huts.checklist import checklist\n",
    "from huts.map import island_maps\n",
    "\n",
    "# Print the checklist\n",
    "# for item in checklist(by_island_by_region_by_place(huts_enriched_with_visits())):\n",
    "#     print item.encode('utf-8')\n",
    "\n",
    "# Uncomment the following to see the interactive map in all its glory!\n",
    "# island_maps[north_island]\n",
    "# island_maps[south_island]"
   ]
  },
  {
   "cell_type": "code",
   "execution_count": null,
   "metadata": {},
   "outputs": [],
   "source": []
  }
 ],
 "metadata": {
  "kernelspec": {
   "display_name": "Python 2",
   "language": "python",
   "name": "python2"
  },
  "language_info": {
   "codemirror_mode": {
    "name": "ipython",
    "version": 2
   },
   "file_extension": ".py",
   "mimetype": "text/x-python",
   "name": "python",
   "nbconvert_exporter": "python",
   "pygments_lexer": "ipython2",
   "version": "2.7.10"
  }
 },
 "nbformat": 4,
 "nbformat_minor": 2
}
